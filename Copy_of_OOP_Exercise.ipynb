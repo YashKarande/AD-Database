{
  "nbformat": 4,
  "nbformat_minor": 0,
  "metadata": {
    "colab": {
      "provenance": [],
      "collapsed_sections": [],
      "authorship_tag": "ABX9TyO8UFmvis5J5d1GmZROJjz8",
      "include_colab_link": true
    },
    "kernelspec": {
      "name": "python3",
      "display_name": "Python 3"
    },
    "language_info": {
      "name": "python"
    }
  },
  "cells": [
    {
      "cell_type": "markdown",
      "metadata": {
        "id": "view-in-github",
        "colab_type": "text"
      },
      "source": [
        "<a href=\"https://colab.research.google.com/github/YashKarande/AD-Database/blob/main/Copy_of_OOP_Exercise.ipynb\" target=\"_parent\"><img src=\"https://colab.research.google.com/assets/colab-badge.svg\" alt=\"Open In Colab\"/></a>"
      ]
    },
    {
      "cell_type": "code",
      "execution_count": null,
      "metadata": {
        "colab": {
          "base_uri": "https://localhost:8080/"
        },
        "id": "xTrIRM-1VzEq",
        "outputId": "1df0909c-d6cb-43f0-b08c-d039c9f87d53"
      },
      "outputs": [
        {
          "output_type": "stream",
          "name": "stdout",
          "text": [
            "Incorrect Item provided.\n",
            "22.44\n"
          ]
        }
      ],
      "source": [
        "#create a class basket with methods\n",
        "#addItem(self,item,qty)\n",
        "#getQty(self,item)\n",
        "\n",
        "price_dict = []\n",
        "basket_dict = []\n",
        "class basket():\n",
        "\n",
        "    def addItem(self, item, qty,price):\n",
        "        basket_dict[item] = qty\n",
        "        price_dict[item] = price\n",
        "\n",
        "    def getQty(self,item):\n",
        "        return basket_dict[item]\n",
        "\n",
        "    def getCost(self):\n",
        "        total = 0\n",
        "        for keyb, valb in basket_dict.items():\n",
        "            for keyp, valp in price_dict.items():\n",
        "                if keyb == keyp:\n",
        "                    total = total + (valb*valp)\n",
        "        return total\n",
        "\n",
        "b1 = basket()\n",
        "b1.addItem(\"Bread\", 5, 1.56)\n",
        "b1.addItem(\"Cheese\", 6, 1.22)\n",
        "b1.addItem(\"Watermelon\", 6, 1.22)\n",
        "try:\n",
        "    b1.getQty(\"Sandwich\")\n",
        "except KeyError:\n",
        "    print(\"Incorrect Item provided.\")\n",
        "print(b1.getCost())"
      ]
    }
  ]
}